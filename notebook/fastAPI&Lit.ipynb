{
 "cells": [
  {
   "cell_type": "markdown",
   "metadata": {},
   "source": [
    "FASTAPI"
   ]
  },
  {
   "cell_type": "code",
   "execution_count": null,
   "metadata": {},
   "outputs": [],
   "source": [
    "from fastapi import FastAPI\n",
    "import sqlite3\n",
    "import pandas as pd\n",
    "import joblib\n",
    "\n",
    "# Charger le modèle de prédiction\n",
    "model = joblib.load(\"../model/pkl/linear_model.pkl\")  # Remplacez par le chemin de votre modèle\n",
    "\n",
    "# Créer une instance de FastAPI\n",
    "app = FastAPI()\n",
    "\n",
    "# Chemin vers la base de données SQLite\n",
    "DB_PATH = \"../data/power_consumption.db\"\n",
    "\n",
    "#ENDPOINTS CREES\n",
    "# quelques endpoints classique\n",
    "#\n",
    "# Endpoint root\n",
    "@app.get(\"/\")\n",
    "def read_root():\n",
    "    return {\"message\": \"Bienvenue sur l'API de prédiction de consommation électrique\"}\n",
    "\n",
    "# Endpoint pour récupérer des données depuis SQLite (10 premiers)\n",
    "@app.get(\"/data/\")\n",
    "def get_data(limit: int = 10):\n",
    "    conn = sqlite3.connect(DB_PATH)\n",
    "    query = f\"SELECT * FROM power_consumption LIMIT {limit}\"\n",
    "    df = pd.read_sql_query(query, conn)\n",
    "    conn.close()\n",
    "    return df.to_dict(orient=\"records\")\n",
    "\n",
    "# Endpoint pour effectuer une prédiction\n",
    "@app.get(\"/predict/\")\n",
    "def predict(\n",
    "    Temperature: float,\n",
    "    Humidity: float,\n",
    "    WindSpeed: float,\n",
    "    GeneralDiffuseFlows: float,\n",
    "    DiffuseFlows: float\n",
    "):\n",
    "    # Préparer les données d'entrée pour le modèle\n",
    "    input_data = [[Temperature, Humidity, WindSpeed, GeneralDiffuseFlows, DiffuseFlows]]\n",
    "    prediction = model.predict(input_data)\n",
    "    return {\"prediction\": prediction[0]}\n"
   ]
  },
  {
   "cell_type": "markdown",
   "metadata": {},
   "source": [
    "STREAMLIT"
   ]
  },
  {
   "cell_type": "code",
   "execution_count": null,
   "metadata": {},
   "outputs": [],
   "source": [
    "import streamlit as st\n",
    "import requests\n",
    "\n",
    "# Configuration de l'application\n",
    "st.title(\"Prédiction de Consommation Électrique - Tétouan - MAROC\")\n",
    "st.write(\"Cette application utilise un modèle de machine learning pour prédire la consommation électrique.\")\n",
    "\n",
    "# Entrée utilisateur pour les prédictions\n",
    "Temperature = st.number_input(\"Température\", value=6.5)\n",
    "Humidity = st.number_input(\"Humidité (%)\", value=75.0)\n",
    "WindSpeed = st.number_input(\"Vitesse du vent\", value=0.08)\n",
    "GeneralDiffuseFlows = st.number_input(\"Débit fluide souterrain general\", value=0.05)\n",
    "DiffuseFlows = st.number_input(\"Débit fluide\", value=0.12)\n",
    "\n",
    "if st.button(\"Prédire\"):\n",
    "    # Appeler l'API FastAPI pour prédiction\n",
    "    response = requests.get(\n",
    "        \"http://127.0.0.1:8000/predict/\",\n",
    "        params={\n",
    "            \"Temperature\": Temperature,\n",
    "            \"Humidity\": Humidity,\n",
    "            \"WindSpeed\": WindSpeed,\n",
    "            \"GeneralDiffuseFlows\": GeneralDiffuseFlows,\n",
    "            \"DiffuseFlows\": DiffuseFlows,\n",
    "        },\n",
    "    )\n",
    "    if response.status_code == 200:\n",
    "        prediction = response.json()[\"prediction\"]\n",
    "        st.success(f\"La consommation prévue est de : {prediction:.2f}\")\n",
    "    else:\n",
    "        st.error(\"Erreur lors de l'appel à l'API\")\n",
    "\n",
    "# Affichage des données brutes\n",
    "st.write(\"### Données disponibles\")\n",
    "limit = st.slider(\"Nombre de lignes à afficher\", min_value=1, max_value=50, value=10)\n",
    "data_response = requests.get(f\"http://127.0.0.1:8000/data/?limit={limit}\")\n",
    "if data_response.status_code == 200:\n",
    "    st.write(data_response.json())\n",
    "else:\n",
    "    st.error(\"Erreur lors de la récupération des données\")\n"
   ]
  }
 ],
 "metadata": {
  "kernelspec": {
   "display_name": "ENV_3.10ml",
   "language": "python",
   "name": "python3"
  },
  "language_info": {
   "name": "python",
   "version": "3.10.16"
  }
 },
 "nbformat": 4,
 "nbformat_minor": 2
}
